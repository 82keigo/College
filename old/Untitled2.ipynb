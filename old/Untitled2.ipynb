{
 "cells": [
  {
   "cell_type": "code",
   "execution_count": 3,
   "metadata": {},
   "outputs": [
    {
     "name": "stdout",
     "output_type": "stream",
     "text": [
      "Collecting qiskit\n",
      "  Downloading https://files.pythonhosted.org/packages/5a/d6/bbb178455616d8aabd4d9df5110681d847da8303d3bd81d856fc14f929eb/qiskit-0.12.0.tar.gz\n",
      "Collecting qiskit_terra==0.9.0 (from qiskit)\n",
      "  Downloading https://files.pythonhosted.org/packages/45/cf/747f02e6449f180cd8a66e3f9c3be88a8d586ba4ff4e47705cab1635a41f/qiskit_terra-0.9.0-cp37-cp37m-win_amd64.whl (1.0MB)\n",
      "Collecting qiskit-aer==0.3.0 (from qiskit)\n",
      "  Downloading https://files.pythonhosted.org/packages/74/92/214838763ca17a26c424233bd4e3daa5e16244f3a13cc61cc66405718fe5/qiskit_aer-0.3.0-cp37-cp37m-win_amd64.whl (10.2MB)\n",
      "Collecting qiskit-ibmq-provider==0.3.2 (from qiskit)\n",
      "  Downloading https://files.pythonhosted.org/packages/bb/eb/9c3e007c625b136c66a3f6da73f682f6ec32f6ee8274d998d84ec51cf3be/qiskit_ibmq_provider-0.3.2-py3-none-any.whl (85kB)\n",
      "Collecting qiskit-ignis==0.2.0 (from qiskit)\n",
      "  Downloading https://files.pythonhosted.org/packages/78/f2/f4f89c65d2c13f473092f7e800519836611ddeeaab8d4591a70555b26a37/qiskit_ignis-0.2.0-py3-none-any.whl (100kB)\n",
      "Collecting qiskit-aqua==0.6.0 (from qiskit)\n",
      "  Downloading https://files.pythonhosted.org/packages/5f/c0/894d00f156458edc5fd0dd559c07889c4bb3c8ca9ea17c921737bfcad6d9/qiskit_aqua-0.6.0-py3-none-any.whl (979kB)\n",
      "Collecting marshmallow<3,>=2.17.0 (from qiskit_terra==0.9.0->qiskit)\n",
      "  Downloading https://files.pythonhosted.org/packages/37/ee/ac9932793478432f0ba1bdc0451be244b4dc2b73c0036bd08c40bddfe2f2/marshmallow-2.20.2-py2.py3-none-any.whl (50kB)\n",
      "Requirement already satisfied: networkx>=2.2 in c:\\users\\k0e8i\\anaconda3\\lib\\site-packages (from qiskit_terra==0.9.0->qiskit) (2.2)\n",
      "Requirement already satisfied: sympy>=1.3 in c:\\users\\k0e8i\\anaconda3\\lib\\site-packages (from qiskit_terra==0.9.0->qiskit) (1.3)\n",
      "Collecting jsonschema<2.7,>=2.6 (from qiskit_terra==0.9.0->qiskit)\n",
      "  Using cached https://files.pythonhosted.org/packages/77/de/47e35a97b2b05c2fadbec67d44cfcdcd09b8086951b331d82de90d2912da/jsonschema-2.6.0-py2.py3-none-any.whl\n",
      "Requirement already satisfied: numpy>=1.13 in c:\\users\\k0e8i\\anaconda3\\lib\\site-packages (from qiskit_terra==0.9.0->qiskit) (1.16.2)\n",
      "Requirement already satisfied: scipy>=1.0 in c:\\users\\k0e8i\\anaconda3\\lib\\site-packages (from qiskit_terra==0.9.0->qiskit) (1.2.1)\n",
      "Requirement already satisfied: ply>=3.10 in c:\\users\\k0e8i\\anaconda3\\lib\\site-packages (from qiskit_terra==0.9.0->qiskit) (3.11)\n",
      "Requirement already satisfied: psutil>=5 in c:\\users\\k0e8i\\anaconda3\\lib\\site-packages (from qiskit_terra==0.9.0->qiskit) (5.6.1)\n",
      "Collecting marshmallow-polyfield<4,>=3.2 (from qiskit_terra==0.9.0->qiskit)\n",
      "  Using cached https://files.pythonhosted.org/packages/fa/ba/6406b8cce3e42b2838d234310c3605627083bbb8f71dcc312c616480fe92/marshmallow_polyfield-3.2-py2.py3-none-any.whl\n",
      "Collecting requests-ntlm>=1.1.0 (from qiskit-ibmq-provider==0.3.2->qiskit)\n",
      "  Using cached https://files.pythonhosted.org/packages/03/4b/8b9a1afde8072c4d5710d9fa91433d504325821b038e00237dc8d6d833dc/requests_ntlm-1.1.0-py2.py3-none-any.whl\n",
      "Collecting websockets<8,>=7 (from qiskit-ibmq-provider==0.3.2->qiskit)\n",
      "  Using cached https://files.pythonhosted.org/packages/8a/7d/7f3a5af575187443e2b6d12611778f73413df2286a71af1a8b012ece1f92/websockets-7.0-cp37-cp37m-win_amd64.whl\n",
      "Requirement already satisfied: requests>=2.19 in c:\\users\\k0e8i\\anaconda3\\lib\\site-packages (from qiskit-ibmq-provider==0.3.2->qiskit) (2.21.0)\n",
      "Collecting nest-asyncio==1.0.0 (from qiskit-ibmq-provider==0.3.2->qiskit)\n",
      "  Using cached https://files.pythonhosted.org/packages/62/18/4c6a895c925e8822e72535d774861e9ca07089c4b938ed20002b1aaab66a/nest_asyncio-1.0.0-py3-none-any.whl\n",
      "Requirement already satisfied: setuptools>=40.1.0 in c:\\users\\k0e8i\\anaconda3\\lib\\site-packages (from qiskit-ignis==0.2.0->qiskit) (40.8.0)\n",
      "Collecting quandl (from qiskit-aqua==0.6.0->qiskit)\n",
      "  Using cached https://files.pythonhosted.org/packages/12/64/6314547cb01fa75697ddba6d6d43a9f1d023c1730ffc6abf3db7a0c89222/Quandl-3.4.8-py2.py3-none-any.whl\n",
      "Collecting fastdtw (from qiskit-aqua==0.6.0->qiskit)\n",
      "Requirement already satisfied: scikit-learn>=0.20.0 in c:\\users\\k0e8i\\anaconda3\\lib\\site-packages (from qiskit-aqua==0.6.0->qiskit) (0.20.3)\n",
      "Collecting dlx (from qiskit-aqua==0.6.0->qiskit)\n",
      "Collecting cvxopt (from qiskit-aqua==0.6.0->qiskit)\n",
      "  Using cached https://files.pythonhosted.org/packages/4f/f3/75ad5f2d09226008ba126eb260f81f602c23ec720dd6cf1da935ec894383/cvxopt-1.2.3-cp37-cp37m-win_amd64.whl\n",
      "Collecting docplex (from qiskit-aqua==0.6.0->qiskit)\n",
      "  Downloading https://files.pythonhosted.org/packages/fb/b9/37d68e68bbb46625a283c6b900989934538d5fb2ae6e7748288641fbac30/docplex-2.10.155.tar.gz (529kB)\n",
      "Requirement already satisfied: h5py in c:\\users\\k0e8i\\anaconda3\\lib\\site-packages (from qiskit-aqua==0.6.0->qiskit) (2.9.0)\n",
      "Requirement already satisfied: decorator>=4.3.0 in c:\\users\\k0e8i\\anaconda3\\lib\\site-packages (from networkx>=2.2->qiskit_terra==0.9.0->qiskit) (4.4.0)\n",
      "Collecting ntlm-auth>=1.0.2 (from requests-ntlm>=1.1.0->qiskit-ibmq-provider==0.3.2->qiskit)\n",
      "  Downloading https://files.pythonhosted.org/packages/50/09/5e397eb18685b14fd8b209e26cdb4fa6451c82c1bcc651fef05fa73e7b27/ntlm_auth-1.4.0-py2.py3-none-any.whl\n",
      "Requirement already satisfied: cryptography>=1.3 in c:\\users\\k0e8i\\anaconda3\\lib\\site-packages (from requests-ntlm>=1.1.0->qiskit-ibmq-provider==0.3.2->qiskit) (2.6.1)\n",
      "Requirement already satisfied: chardet<3.1.0,>=3.0.2 in c:\\users\\k0e8i\\anaconda3\\lib\\site-packages (from requests>=2.19->qiskit-ibmq-provider==0.3.2->qiskit) (3.0.4)\n",
      "Requirement already satisfied: urllib3<1.25,>=1.21.1 in c:\\users\\k0e8i\\anaconda3\\lib\\site-packages (from requests>=2.19->qiskit-ibmq-provider==0.3.2->qiskit) (1.24.1)\n",
      "Requirement already satisfied: certifi>=2017.4.17 in c:\\users\\k0e8i\\anaconda3\\lib\\site-packages (from requests>=2.19->qiskit-ibmq-provider==0.3.2->qiskit) (2019.3.9)\n",
      "Requirement already satisfied: idna<2.9,>=2.5 in c:\\users\\k0e8i\\anaconda3\\lib\\site-packages (from requests>=2.19->qiskit-ibmq-provider==0.3.2->qiskit) (2.8)\n",
      "Requirement already satisfied: pyOpenSSL in c:\\users\\k0e8i\\anaconda3\\lib\\site-packages (from quandl->qiskit-aqua==0.6.0->qiskit) (19.0.0)\n",
      "Collecting inflection>=0.3.1 (from quandl->qiskit-aqua==0.6.0->qiskit)\n",
      "Requirement already satisfied: six in c:\\users\\k0e8i\\appdata\\roaming\\python\\python37\\site-packages (from quandl->qiskit-aqua==0.6.0->qiskit) (1.11.0)\n",
      "Collecting pyasn1 (from quandl->qiskit-aqua==0.6.0->qiskit)\n",
      "  Downloading https://files.pythonhosted.org/packages/6a/6e/209351ec34b7d7807342e2bb6ff8a96eef1fd5dcac13bdbadf065c2bb55c/pyasn1-0.4.6-py2.py3-none-any.whl (75kB)\n",
      "Collecting ndg-httpsclient (from quandl->qiskit-aqua==0.6.0->qiskit)\n",
      "  Using cached https://files.pythonhosted.org/packages/fb/67/c2f508c00ed2a6911541494504b7cac16fe0b0473912568df65fd1801132/ndg_httpsclient-0.5.1-py3-none-any.whl\n",
      "Requirement already satisfied: python-dateutil in c:\\users\\k0e8i\\anaconda3\\lib\\site-packages (from quandl->qiskit-aqua==0.6.0->qiskit) (2.8.0)\n",
      "Requirement already satisfied: pandas>=0.14 in c:\\users\\k0e8i\\anaconda3\\lib\\site-packages (from quandl->qiskit-aqua==0.6.0->qiskit) (0.24.2)\n",
      "Collecting more-itertools<=5.0.0 (from quandl->qiskit-aqua==0.6.0->qiskit)\n",
      "  Using cached https://files.pythonhosted.org/packages/a4/a6/42f17d065bda1fac255db13afc94c93dbfb64393eae37c749b4cb0752fc7/more_itertools-5.0.0-py3-none-any.whl\n",
      "Collecting mkl (from cvxopt->qiskit-aqua==0.6.0->qiskit)\n",
      "  Using cached https://files.pythonhosted.org/packages/56/39/537cb3e4e93f1ac5085dc3b3a43cfd99d0af9b29c44fcaa99490f526b611/mkl-2019.0-py2.py3-none-win_amd64.whl\n",
      "Collecting docloud>=1.0.369 (from docplex->qiskit-aqua==0.6.0->qiskit)\n",
      "Requirement already satisfied: cffi!=1.11.3,>=1.8 in c:\\users\\k0e8i\\anaconda3\\lib\\site-packages (from cryptography>=1.3->requests-ntlm>=1.1.0->qiskit-ibmq-provider==0.3.2->qiskit) (1.12.2)\n",
      "Requirement already satisfied: asn1crypto>=0.21.0 in c:\\users\\k0e8i\\anaconda3\\lib\\site-packages (from cryptography>=1.3->requests-ntlm>=1.1.0->qiskit-ibmq-provider==0.3.2->qiskit) (0.24.0)\n",
      "Requirement already satisfied: pytz>=2011k in c:\\users\\k0e8i\\anaconda3\\lib\\site-packages (from pandas>=0.14->quandl->qiskit-aqua==0.6.0->qiskit) (2018.9)\n",
      "Collecting intel-openmp (from mkl->cvxopt->qiskit-aqua==0.6.0->qiskit)\n",
      "  Using cached https://files.pythonhosted.org/packages/2f/24/2562ec7515e44dea49867fab2c75704c0014d5d3da1f4e9f3bcfac717e5f/intel_openmp-2019.0-py2.py3-none-win_amd64.whl\n",
      "Requirement already satisfied: pycparser in c:\\users\\k0e8i\\anaconda3\\lib\\site-packages (from cffi!=1.11.3,>=1.8->cryptography>=1.3->requests-ntlm>=1.1.0->qiskit-ibmq-provider==0.3.2->qiskit) (2.19)\n",
      "Building wheels for collected packages: qiskit, docplex\n",
      "  Building wheel for qiskit (setup.py): started\n",
      "  Building wheel for qiskit (setup.py): finished with status 'done'\n",
      "  Stored in directory: C:\\Users\\k0e8i\\AppData\\Local\\pip\\Cache\\wheels\\de\\fc\\68\\2318ad43f26583ec1ac8e30bedd43e71211c9256429b7f829c\n",
      "  Building wheel for docplex (setup.py): started\n",
      "  Building wheel for docplex (setup.py): finished with status 'done'\n",
      "  Stored in directory: C:\\Users\\k0e8i\\AppData\\Local\\pip\\Cache\\wheels\\4d\\29\\ab\\0ff88dd04d5b6a360650695db638b9f607931a1d667348a439\n",
      "Successfully built qiskit docplex\n",
      "Installing collected packages: marshmallow, jsonschema, marshmallow-polyfield, qiskit-terra, qiskit-aer, ntlm-auth, requests-ntlm, websockets, nest-asyncio, qiskit-ibmq-provider, qiskit-ignis, inflection, pyasn1, ndg-httpsclient, more-itertools, quandl, fastdtw, dlx, intel-openmp, mkl, cvxopt, docloud, docplex, qiskit-aqua, qiskit\n",
      "  Found existing installation: jsonschema 3.0.1\n",
      "    Uninstalling jsonschema-3.0.1:\n",
      "      Successfully uninstalled jsonschema-3.0.1\n",
      "  Found existing installation: more-itertools 6.0.0\n",
      "    Uninstalling more-itertools-6.0.0:\n",
      "      Successfully uninstalled more-itertools-6.0.0\n",
      "Note: you may need to restart the kernel to use updated packages.\n"
     ]
    },
    {
     "name": "stderr",
     "output_type": "stream",
     "text": [
      "Could not install packages due to an EnvironmentError: [WinError 5] アクセスが拒否されました。: 'C:\\\\Users\\\\k0e8i\\\\Anaconda3\\\\Library\\\\bin\\\\libiomp5md.dll'\n",
      "Consider using the `--user` option or check the permissions.\n",
      "\n"
     ]
    }
   ],
   "source": [
    "pip install qiskit"
   ]
  },
  {
   "cell_type": "code",
   "execution_count": 4,
   "metadata": {},
   "outputs": [
    {
     "ename": "IBMQAccountError",
     "evalue": "'No IBM Q Experience credentials found on disk.'",
     "output_type": "error",
     "traceback": [
      "\u001b[1;31m---------------------------------------------------------------------------\u001b[0m",
      "\u001b[1;31mIBMQAccountError\u001b[0m                          Traceback (most recent call last)",
      "\u001b[1;32m<ipython-input-4-1c9325cea3e7>\u001b[0m in \u001b[0;36m<module>\u001b[1;34m\u001b[0m\n\u001b[0;32m      6\u001b[0m \u001b[1;32mfrom\u001b[0m \u001b[0mqiskit\u001b[0m\u001b[1;33m.\u001b[0m\u001b[0mvisualization\u001b[0m \u001b[1;32mimport\u001b[0m \u001b[1;33m*\u001b[0m\u001b[1;33m\u001b[0m\u001b[1;33m\u001b[0m\u001b[0m\n\u001b[0;32m      7\u001b[0m \u001b[1;31m# Loading your IBM Q account(s)\u001b[0m\u001b[1;33m\u001b[0m\u001b[1;33m\u001b[0m\u001b[1;33m\u001b[0m\u001b[0m\n\u001b[1;32m----> 8\u001b[1;33m \u001b[0mprovider\u001b[0m \u001b[1;33m=\u001b[0m \u001b[0mIBMQ\u001b[0m\u001b[1;33m.\u001b[0m\u001b[0mload_account\u001b[0m\u001b[1;33m(\u001b[0m\u001b[1;33m)\u001b[0m\u001b[1;33m\u001b[0m\u001b[1;33m\u001b[0m\u001b[0m\n\u001b[0m\u001b[0;32m      9\u001b[0m \u001b[1;32mfrom\u001b[0m \u001b[0mqiskit\u001b[0m\u001b[1;33m.\u001b[0m\u001b[0maqua\u001b[0m \u001b[1;32mimport\u001b[0m \u001b[0mrun_algorithm\u001b[0m\u001b[1;33m\u001b[0m\u001b[1;33m\u001b[0m\u001b[0m\n\u001b[0;32m     10\u001b[0m \u001b[1;32mfrom\u001b[0m \u001b[0mqiskit\u001b[0m\u001b[1;33m.\u001b[0m\u001b[0maqua\u001b[0m\u001b[1;33m.\u001b[0m\u001b[0minput\u001b[0m \u001b[1;32mimport\u001b[0m \u001b[0mLinearSystemInput\u001b[0m\u001b[1;33m\u001b[0m\u001b[1;33m\u001b[0m\u001b[0m\n",
      "\u001b[1;32m~\\Anaconda3\\lib\\site-packages\\qiskit\\providers\\ibmq\\ibmqfactory.py\u001b[0m in \u001b[0;36mload_account\u001b[1;34m(self)\u001b[0m\n\u001b[0;32m    156\u001b[0m         \u001b[1;32mif\u001b[0m \u001b[1;32mnot\u001b[0m \u001b[0mcredentials_list\u001b[0m\u001b[1;33m:\u001b[0m\u001b[1;33m\u001b[0m\u001b[1;33m\u001b[0m\u001b[0m\n\u001b[0;32m    157\u001b[0m             raise IBMQAccountError(\n\u001b[1;32m--> 158\u001b[1;33m                 'No IBM Q Experience credentials found on disk.')\n\u001b[0m\u001b[0;32m    159\u001b[0m \u001b[1;33m\u001b[0m\u001b[0m\n\u001b[0;32m    160\u001b[0m         \u001b[1;32mif\u001b[0m \u001b[0mlen\u001b[0m\u001b[1;33m(\u001b[0m\u001b[0mcredentials_list\u001b[0m\u001b[1;33m)\u001b[0m \u001b[1;33m>\u001b[0m \u001b[1;36m1\u001b[0m\u001b[1;33m:\u001b[0m\u001b[1;33m\u001b[0m\u001b[1;33m\u001b[0m\u001b[0m\n",
      "\u001b[1;31mIBMQAccountError\u001b[0m: 'No IBM Q Experience credentials found on disk.'"
     ]
    }
   ],
   "source": [
    "%matplotlib inline\n",
    "# Importing standard Qiskit libraries and configuring account\n",
    "from qiskit import QuantumCircuit, execute, Aer, IBMQ\n",
    "from qiskit.compiler import transpile, assemble\n",
    "from qiskit.tools.jupyter import *\n",
    "from qiskit.visualization import *\n",
    "# Loading your IBM Q account(s)\n",
    "provider = IBMQ.load_account()\n",
    "from qiskit.aqua import run_algorithm\n",
    "from qiskit.aqua.input import LinearSystemInput\n",
    "from qiskit.quantum_info import state_fidelity\n",
    "from qiskit.aqua.algorithms.classical import ExactLSsolver\n",
    "import numpy as np"
   ]
  }
 ],
 "metadata": {
  "kernelspec": {
   "display_name": "Python 3",
   "language": "python",
   "name": "python3"
  },
  "language_info": {
   "codemirror_mode": {
    "name": "ipython",
    "version": 3
   },
   "file_extension": ".py",
   "mimetype": "text/x-python",
   "name": "python",
   "nbconvert_exporter": "python",
   "pygments_lexer": "ipython3",
   "version": "3.7.3"
  }
 },
 "nbformat": 4,
 "nbformat_minor": 2
}
