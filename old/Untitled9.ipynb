{
 "cells": [
  {
   "cell_type": "code",
   "execution_count": 12,
   "metadata": {},
   "outputs": [
    {
     "data": {
      "text/plain": [
       "[<IBMQBackend('ibmqx2') from IBMQ(hub='ibm-q-keio', group='keio-internal', project='keio-students')>,\n",
       " <IBMQSimulator('ibmq_qasm_simulator') from IBMQ(hub='ibm-q-keio', group='keio-internal', project='keio-students')>,\n",
       " <IBMQBackend('ibmq_20_tokyo') from IBMQ(hub='ibm-q-keio', group='keio-internal', project='keio-students')>,\n",
       " <IBMQBackend('ibmq_16_melbourne') from IBMQ(hub='ibm-q-keio', group='keio-internal', project='keio-students')>,\n",
       " <IBMQBackend('ibmq_poughkeepsie') from IBMQ(hub='ibm-q-keio', group='keio-internal', project='keio-students')>,\n",
       " <IBMQBackend('ibmq_boeblingen') from IBMQ(hub='ibm-q-keio', group='keio-internal', project='keio-students')>,\n",
       " <IBMQBackend('ibmq_vigo') from IBMQ(hub='ibm-q-keio', group='keio-internal', project='keio-students')>,\n",
       " <IBMQBackend('ibmq_ourense') from IBMQ(hub='ibm-q-keio', group='keio-internal', project='keio-students')>,\n",
       " <IBMQBackend('ibmq_valencia') from IBMQ(hub='ibm-q-keio', group='keio-internal', project='keio-students')>,\n",
       " <IBMQBackend('ibmq_singapore') from IBMQ(hub='ibm-q-keio', group='keio-internal', project='keio-students')>,\n",
       " <IBMQBackend('ibmq_rochester') from IBMQ(hub='ibm-q-keio', group='keio-internal', project='keio-students')>]"
      ]
     },
     "execution_count": 12,
     "metadata": {},
     "output_type": "execute_result"
    }
   ],
   "source": [
    "from qiskit import IBMQ\n",
    "IBMQ.load_account()\n",
    "IBMQ.providers()\n",
    "providers.backends()"
   ]
  },
  {
   "cell_type": "code",
   "execution_count": null,
   "metadata": {},
   "outputs": [],
   "source": []
  }
 ],
 "metadata": {
  "kernelspec": {
   "display_name": "Python 3",
   "language": "python",
   "name": "python3"
  },
  "language_info": {
   "codemirror_mode": {
    "name": "ipython",
    "version": 3
   },
   "file_extension": ".py",
   "mimetype": "text/x-python",
   "name": "python",
   "nbconvert_exporter": "python",
   "pygments_lexer": "ipython3",
   "version": "3.7.5"
  }
 },
 "nbformat": 4,
 "nbformat_minor": 2
}
