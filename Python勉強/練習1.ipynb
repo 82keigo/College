{
 "cells": [
  {
   "cell_type": "code",
   "execution_count": 4,
   "metadata": {},
   "outputs": [
    {
     "name": "stdout",
     "output_type": "stream",
     "text": [
      "5\n",
      "1 2 3 4 5\n",
      "85\n",
      "5\n",
      "3\n"
     ]
    }
   ],
   "source": [
    "N = input()\n",
    "re = [int(x) for x in input().split()]\n",
    "j = 0\n",
    "s = len(re) - 1\n",
    "for n in range(s):\n",
    "\tfor m in reversed(range(s)):\n",
    "\t\tif m+1 == n:\n",
    "\t\t\tbreak\n",
    "\t\tj += re[n]*re[m+1]\n",
    "print(j)\n",
    "print(len(re))\n",
    "print(n)\n"
   ]
  }
 ],
 "metadata": {
  "kernelspec": {
   "display_name": "Python 3",
   "language": "python",
   "name": "python3"
  },
  "language_info": {
   "codemirror_mode": {
    "name": "ipython",
    "version": 3
   },
   "file_extension": ".py",
   "mimetype": "text/x-python",
   "name": "python",
   "nbconvert_exporter": "python",
   "pygments_lexer": "ipython3",
   "version": "3.7.3"
  }
 },
 "nbformat": 4,
 "nbformat_minor": 2
}
