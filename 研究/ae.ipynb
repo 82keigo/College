{
 "cells": [
  {
   "cell_type": "code",
   "execution_count": 4,
   "metadata": {},
   "outputs": [
    {
     "name": "stderr",
     "output_type": "stream",
     "text": [
      "C:\\Users\\k0e8i\\Anaconda3\\envs\\qiskit\\lib\\site-packages\\qiskit\\providers\\ibmq\\ibmqfactory.py:181: UserWarning: Credentials are already in use. The existing account in the session will be replaced.\n",
      "  warnings.warn('Credentials are already in use. The existing '\n"
     ]
    },
    {
     "data": {
      "text/plain": [
       "[<IBMQBackend('ibmqx2') from IBMQ(hub='ibm-q-keio', group='keio-internal', project='keio-students')>,\n",
       " <IBMQSimulator('ibmq_qasm_simulator') from IBMQ(hub='ibm-q-keio', group='keio-internal', project='keio-students')>,\n",
       " <IBMQBackend('ibmq_20_tokyo') from IBMQ(hub='ibm-q-keio', group='keio-internal', project='keio-students')>,\n",
       " <IBMQBackend('ibmq_16_melbourne') from IBMQ(hub='ibm-q-keio', group='keio-internal', project='keio-students')>,\n",
       " <IBMQBackend('ibmq_poughkeepsie') from IBMQ(hub='ibm-q-keio', group='keio-internal', project='keio-students')>,\n",
       " <IBMQBackend('ibmq_boeblingen') from IBMQ(hub='ibm-q-keio', group='keio-internal', project='keio-students')>,\n",
       " <IBMQBackend('ibmq_vigo') from IBMQ(hub='ibm-q-keio', group='keio-internal', project='keio-students')>,\n",
       " <IBMQBackend('ibmq_ourense') from IBMQ(hub='ibm-q-keio', group='keio-internal', project='keio-students')>,\n",
       " <IBMQBackend('ibmq_valencia') from IBMQ(hub='ibm-q-keio', group='keio-internal', project='keio-students')>,\n",
       " <IBMQBackend('ibmq_singapore') from IBMQ(hub='ibm-q-keio', group='keio-internal', project='keio-students')>,\n",
       " <IBMQBackend('ibmq_rochester') from IBMQ(hub='ibm-q-keio', group='keio-internal', project='keio-students')>]"
      ]
     },
     "execution_count": 4,
     "metadata": {},
     "output_type": "execute_result"
    }
   ],
   "source": [
    "from qiskit import IBMQ\n",
    "IBMQ.load_account()\n",
    "IBMQ.providers()\n",
    "providers=IBMQ.get_provider(hub='ibm-q-keio')\n",
    "providers.backends()"
   ]
  },
  {
   "cell_type": "code",
   "execution_count": 5,
   "metadata": {},
   "outputs": [
    {
     "name": "stdout",
     "output_type": "stream",
     "text": [
      "Analytical Result: 0.12158663567967151\n",
      "Discretized Result: 0.1211973148745352\n"
     ]
    }
   ],
   "source": [
    "import math\n",
    "\n",
    "b_max = math.pi / 5  # upper limit of integral\n",
    "nbit = 3  # change this value to get discretized result closer to analytical results\n",
    "\n",
    "analyticResult = (b_max / 2.0 - math.sin(2 * b_max) / 4.0 ) / b_max  # the target integral can be analytically solved\n",
    "print(\"Analytical Result:\", analyticResult)\n",
    "\n",
    "ndiv = 2**nbit  #number of discretization \n",
    "discretizedResult = 0.0\n",
    "for i in range(ndiv):\n",
    "    discretizedResult += math.sin(b_max / ndiv * (i + 0.5))**2\n",
    "discretizedResult = discretizedResult / ndiv\n",
    "print(\"Discretized Result:\", discretizedResult)\n"
   ]
  },
  {
   "cell_type": "code",
   "execution_count": 6,
   "metadata": {},
   "outputs": [],
   "source": [
    "def P(qc, qx, nbit):\n",
    "    \"\"\"\n",
    "        Generating uniform probability distribution\n",
    "            qc: quantum circuit\n",
    "            qx: quantum register\n",
    "            nbit: number of qubits\n",
    "        The inverse of P = P\n",
    "    \"\"\"\n",
    "    qc.h(qx)\n",
    "\n",
    "def R(qc, qx, qx_measure, nbit, b_max):\n",
    "    \"\"\"\n",
    "        Computing the integral function f()\n",
    "            qc: quantum circuit\n",
    "            qx: quantum register\n",
    "            qx_measure: quantum register for measurement\n",
    "            nbit: number of qubits\n",
    "            b_max: upper limit of integral            \n",
    "    \"\"\"\n",
    "    qc.ry(b_max / 2**nbit * 2 * 0.5, qx_measure)\n",
    "    for i in range(nbit):\n",
    "        qc.cu3(2**i * b_max / 2**nbit * 2, 0, 0, qx[i], qx_measure[0])\n",
    "\n",
    "def Rinv(qc, qx, qx_measure, nbit, b_max):\n",
    "    \"\"\"\n",
    "        The inverse of R\n",
    "            qc: quantum circuit\n",
    "            qx: quantum register\n",
    "            qx_measure : quantum register for measurement\n",
    "            nbit: number of qubits\n",
    "            b_max: upper limit of integral\n",
    "    \"\"\"\n",
    "    for i in range(nbit)[::-1]:\n",
    "        qc.cu3(-2**i * b_max / 2**nbit * 2, 0, 0, qx[i], qx_measure[0])\n",
    "    qc.ry(-b_max / 2**nbit * 2 * 0.5, qx_measure)"
   ]
  },
  {
   "cell_type": "code",
   "execution_count": 7,
   "metadata": {},
   "outputs": [],
   "source": [
    "from qiskit import ClassicalRegister, QuantumRegister, QuantumCircuit\n",
    "from qiskit import execute\n",
    "from qiskit import IBMQ\n",
    "from qiskit import Aer\n",
    "from scipy import optimize\n",
    "import sys, time\n",
    "import mpmath as mp\n",
    "import numpy as np\n",
    "import matplotlib.pyplot as plt"
   ]
  },
  {
   "cell_type": "code",
   "execution_count": 8,
   "metadata": {},
   "outputs": [],
   "source": [
    "# Functions to construct circuits for Grover operators\n",
    "def multi_control_NOT(qc, qx, qx_measure, qx_ancilla, nbit, b_max):\n",
    "    \"\"\"\n",
    "        Computing multi controlled NOT gate\n",
    "            qc: quantum circuit\n",
    "            qx: quantum register\n",
    "            qx_measure: quantum register for measurement\n",
    "            qx_ancilla: temporal quantum register for decomposing multi controlled NOT gate\n",
    "            nbit: number of qubits\n",
    "            b_max: upper limit of integral\n",
    "    \"\"\"\n",
    "\n",
    "    if nbit == 1:\n",
    "        qc.cz(qx[0], qx_measure[0])\n",
    "    elif nbit == 2:\n",
    "        qc.h(qx_measure[0])\n",
    "        qc.ccx(qx[0], qx[1], qx_measure[0])\n",
    "        qc.h(qx_measure[0])\n",
    "    elif nbit > 2.0:\n",
    "        qc.ccx(qx[0], qx[1], qx_ancilla[0])\n",
    "        for i in range(nbit - 3):\n",
    "            qc.ccx(qx[i + 2], qx_ancilla[i], qx_ancilla[i + 1])\n",
    "        qc.h(qx_measure[0])\n",
    "        qc.ccx(qx[nbit - 1], qx_ancilla[nbit - 3], qx_measure[0])\n",
    "        qc.h(qx_measure[0])\n",
    "        for i in range(nbit - 3)[::-1]:\n",
    "            qc.ccx(qx[i + 2], qx_ancilla[i], qx_ancilla[i + 1])\n",
    "        qc.ccx(qx[0], qx[1], qx_ancilla[0])\n",
    "\n",
    "\n",
    "def reflect(qc, qx, qx_measure, qx_ancilla, nbit, b_max):\n",
    "    \"\"\"\n",
    "        Computing reflection operator (I - 2|0><0|)\n",
    "            qc: quantum circuit\n",
    "            qx: quantum register\n",
    "            qx_measure: quantum register for measurement\n",
    "            qx_ancilla: temporal quantum register for decomposing multi controlled NOT gate\n",
    "            nbit: number of qubits\n",
    "            b_max: upper limit of integral\n",
    "    \"\"\"\n",
    "    for i in range(nbit):\n",
    "        qc.x(qx[i])\n",
    "    qc.x(qx_measure[0])\n",
    "    qc.barrier()    #format the circuits visualization\n",
    "    multi_control_NOT(qc, qx, qx_measure, qx_ancilla, nbit, b_max)\n",
    "    qc.barrier()    #format the circuits visualization\n",
    "    qc.x(qx_measure[0])\n",
    "    for i in range(nbit):\n",
    "        qc.x(qx[i])\n",
    "\n",
    "\n",
    "# This is to implement Grover Operator\n",
    "def Q_grover(qc, qx, qx_measure, qx_ancilla, nbit, b_max):\n",
    "    \"\"\"\n",
    "        The Grover operator: R P (I - 2|0><0|) P^+ R^+ U_psi_0 \n",
    "            qc: quantum circuit\n",
    "            qx: quantum register\n",
    "            qx_measure: quantum register for measurement\n",
    "            qx_ancilla: temporal quantum register for decomposing multi controlled NOT gate\n",
    "            nbit: number of qubits\n",
    "            b_max: upper limit of integral\n",
    "    \"\"\"\n",
    "    qc.z(qx_measure[0])\n",
    "    Rinv(qc, qx, qx_measure, nbit, b_max)\n",
    "    qc.barrier()    #format the circuits visualization\n",
    "    P(qc, qx, nbit)\n",
    "    reflect(qc, qx, qx_measure, qx_ancilla, nbit, b_max)\n",
    "    P(qc, qx, nbit)\n",
    "    qc.barrier()    #format the circuits visualization\n",
    "    R(qc, qx, qx_measure, nbit, b_max)"
   ]
  },
  {
   "cell_type": "code",
   "execution_count": 9,
   "metadata": {},
   "outputs": [],
   "source": [
    "def create_grover_circuit(numebr_grover_list, nbit, b_max):\n",
    "    \"\"\"\n",
    "        To generate quantum circuits running Grover operators with number of iterations in number_grover_list\n",
    "            numebr_grover_list: list of number of Grover operators\n",
    "            nbit: number of qubits (2**nbit = ndiv is the number of discretization in the Monte Carlo integration)\n",
    "            b_max: upper limit of integral\n",
    "        Return:\n",
    "            qc_list: quantum circuits with Grover operators as in number_grover_list\n",
    "    \"\"\"\n",
    "    qc_list = []\n",
    "    for igrover in range(len(numebr_grover_list)):\n",
    "        qx = QuantumRegister(nbit)\n",
    "        qx_measure = QuantumRegister(1)\n",
    "        cr = ClassicalRegister(1)\n",
    "        if (nbit > 2):\n",
    "            qx_ancilla = QuantumRegister(nbit - 2)\n",
    "            qc = QuantumCircuit(qx, qx_ancilla, qx_measure, cr)\n",
    "        else:\n",
    "            qx_ancilla = 0\n",
    "            qc = QuantumCircuit(qx, qx_measure, cr)\n",
    "        P(qc, qx, nbit)\n",
    "        R(qc, qx, qx_measure, nbit, b_max)\n",
    "        for ikAA in range(numebr_grover_list[igrover]):\n",
    "            Q_grover(qc, qx, qx_measure, qx_ancilla, nbit, b_max)\n",
    "        qc.measure(qx_measure[0], cr[0])\n",
    "        qc_list.append(qc)\n",
    "    return qc_list"
   ]
  },
  {
   "cell_type": "code",
   "execution_count": 10,
   "metadata": {},
   "outputs": [
    {
     "name": "stderr",
     "output_type": "stream",
     "text": [
      "C:\\Users\\k0e8i\\Anaconda3\\envs\\qiskit\\lib\\site-packages\\qiskit\\visualization\\matplotlib.py:143: DeprecationWarning: style option/s (usepiformat, compress) is/are not supported\n",
      "  self._style.set_style(style)\n"
     ]
    },
    {
     "data": {
      "image/png": "[encoded data removed]",
      "text/plain": [
       "<Figure size 1672.36x1228.08 with 1 Axes>"
      ]
     },
     "execution_count": 10,
     "metadata": {},
     "output_type": "execute_result"
    }
   ],
   "source": [
    "qc_list = create_grover_circuit([2], nbit, b_max)\n",
    "my_style = {'usepiformat': True, 'cregbundle': True,'compress': True }\n",
    "qc_list[0].draw(output=\"mpl\", style=my_style, plot_barriers=False )"
   ]
  },
  {
   "cell_type": "code",
   "execution_count": 11,
   "metadata": {},
   "outputs": [],
   "source": [
    "def run_grover(qc_list, number_grover_list, shots_list, backend):\n",
    "    \"\"\"\n",
    "        Run the quantum circuits returned by create_grover_circuit()\n",
    "            qc_list: list of quantum circuits\n",
    "            numebr_grover_list: list of number of Grover operators\n",
    "            shots_list:  list of number of shots\n",
    "            backend: name of backends\n",
    "        \n",
    "        Return:\n",
    "            hit_list: list of count of obserbving \"1\" for qc_list\n",
    "    \"\"\"\n",
    "    hit_list = []\n",
    "    for k in range(len(number_grover_list)):\n",
    "        job = execute(qc_list[k], backend=backend, shots=shots_list[k])\n",
    "        lapse = 0\n",
    "        interval = 0.00001\n",
    "        time.sleep(interval)\n",
    "        while job.status().name != 'DONE':\n",
    "            time.sleep(interval)\n",
    "            lapse += 1\n",
    "        counts = job.result().get_counts(qc_list[k]).get(\"1\", 0)\n",
    "        hit_list.append(counts)\n",
    "    return hit_list"
   ]
  },
  {
   "cell_type": "code",
   "execution_count": 12,
   "metadata": {},
   "outputs": [],
   "source": [
    "def calculate_theta(hit_list, number_grover_list, shots_list):\n",
    "    \"\"\"\n",
    "        calculate optimal theta values\n",
    "            hit_list: list of count of obserbving \"1\" for qc_list\n",
    "            numebr_grover_list: list of number of Grover operators        \n",
    "            shots_list: list of number of shots\n",
    "\n",
    "        Return:\n",
    "            thetaCandidate_list: list of optimal theta\n",
    "    \"\"\"\n",
    "\n",
    "    small = 1.e-15  # small valued parameter to avoid zero division\n",
    "    confidenceLevel = 5  # confidence level to determine the search range\n",
    "\n",
    "    thetaCandidate_list = []\n",
    "    rangeMin = 0.0 + small\n",
    "    rangeMax = 1.0 - small\n",
    "    for igrover in range(len(number_grover_list)):\n",
    "\n",
    "        def loglikelihood(p):\n",
    "            ret = np.zeros_like(p)\n",
    "            theta = np.arcsin(np.sqrt(p))\n",
    "            for n in range(igrover + 1):\n",
    "                ihit = hit_list[n]\n",
    "                arg = (2 * number_grover_list[n] + 1) * theta\n",
    "                ret = ret + 2 * ihit * np.log(np.abs(np.sin(arg))) + 2 * (\n",
    "                    shots_list[n] - ihit) * np.log(np.abs(np.cos(arg)))\n",
    "            return -ret\n",
    "\n",
    "        searchRange = (rangeMin, rangeMax)\n",
    "        searchResult = optimize.brute(loglikelihood, [searchRange])\n",
    "        pCandidate = searchResult[0]\n",
    "        thetaCandidate_list.append(np.arcsin(np.sqrt(pCandidate)))\n",
    "        perror = CalcErrorCramérRao(igrover, shots_list, pCandidate, number_grover_list)\n",
    "        rangeMax = min(pCandidate+confidenceLevel*perror,1.0 - small)\n",
    "        rangeMin = max(pCandidate-confidenceLevel*perror,0.0 + small)\n",
    "    return thetaCandidate_list"
   ]
  },
  {
   "cell_type": "code",
   "execution_count": null,
   "metadata": {},
   "outputs": [],
   "source": [
    "#setting the number of shots and Grover operators.\n",
    "\n",
    "shots_list = [100]*20# list of number of shots\n",
    "number_grover_list = [i*8 for i in range(20)]  # list of number of Grover operators\n",
    "if len(shots_list) != len(number_grover_list):\n",
    "    raise Exception(\n",
    "        'The length of shots_list should be equal to the length of number_grover_list.'\n",
    "    )\n",
    "\n",
    "backend = providers.get_backend('ibmq_qasm_simulator')\n",
    "print(shots_list)\n",
    "print(number_grover_list)"
   ]
  },
  {
   "cell_type": "code",
   "execution_count": 14,
   "metadata": {},
   "outputs": [],
   "source": [
    "def CalcErrorCramérRao(M, shot_list, p0, number_grover_list):\n",
    "    \"\"\"\n",
    "        calculate Cramér-Rao lower bound\n",
    "            M: upper limit of the sum in Fisher information \n",
    "            shots_list:  list of number of shots\n",
    "            p0: the true parameter value to be estimated\n",
    "            numebr_grover_list: list of number of Grover operators        \n",
    "\n",
    "        Return:\n",
    "            square root of Cramér-Rao lower bound:  lower bound on the standard deviation of unbiased estimators\n",
    "    \"\"\"\n",
    "    FisherInfo = 0\n",
    "    for k in range(M + 1):\n",
    "        Nk = shot_list[k]\n",
    "        mk = number_grover_list[k]\n",
    "        FisherInfo += Nk / (p0 * (1 - p0)) * (2 * mk + 1)**2\n",
    "    return np.sqrt(1 / FisherInfo)\n",
    "\n",
    "\n",
    "def CalcNumberOracleCalls(M, shot_list, number_grover_list):\n",
    "    \"\"\"\n",
    "        calculate the total number of oracle calls\n",
    "            M: upper limit of the sum in Fisher information \n",
    "            shots_list:  list of number of shots\n",
    "            numebr_grover_list: list of number of Grover operators        \n",
    "\n",
    "        Return:\n",
    "            Norac: the total number of oracle calls\n",
    "    \"\"\"\n",
    "    Norac = 0\n",
    "    for k in range(M + 1):\n",
    "        Nk = shots_list[k]\n",
    "        mk = number_grover_list[k]\n",
    "        Norac += Nk * (2 * mk + 1)\n",
    "    return Norac"
   ]
  },
  {
   "cell_type": "code",
   "execution_count": null,
   "metadata": {},
   "outputs": [],
   "source": [
    "qc_list = create_grover_circuit(number_grover_list, nbit,\n",
    "                                b_max)  # list of Grover circuits\n",
    "hit_list = run_grover(qc_list, number_grover_list, shots_list,\n",
    "                      backend)  # list of number of grover operators\n",
    "thetaCandidate_list = calculate_theta(\n",
    "    hit_list, number_grover_list, shots_list)  # list of estimated theta values\n",
    "print(hit_list)\n",
    "plt.scatter(number_grover_list,hit_list)\n",
    "plt.show()"
   ]
  },
  {
   "cell_type": "code",
   "execution_count": null,
   "metadata": {},
   "outputs": [],
   "source": [
    "\n",
    "error_list = np.abs(np.sin(thetaCandidate_list)**2 - discretizedResult)  # list of estimation errors\n",
    "OracleCall_list = []  # list of number of oracle calls\n",
    "ErrorCramérRao_list = []  # list of Cramér-Rao lower bound\n",
    "for i in range(len(number_grover_list)):\n",
    "    OracleCall_list.append(\n",
    "        CalcNumberOracleCalls(i, shots_list, number_grover_list))\n",
    "    ErrorCramérRao_list.append(\n",
    "        CalcErrorCramérRao(i, shots_list, discretizedResult, number_grover_list))\n",
    "\n",
    "p1 = plt.plot(OracleCall_list, error_list, 'o')\n",
    "p2 = plt.plot( OracleCall_list, ErrorCramérRao_list)\n",
    "plt.xscale('log')\n",
    "plt.xlabel(\"Number of oracle calls\")\n",
    "plt.yscale('log')\n",
    "plt.ylabel(\"Estimation Error\")\n",
    "plt.legend((p1[0], p2[0]), (\"Estimated Value\", \"Cramér-Rao\"))\n",
    "plt.show()"
   ]
  },
  {
   "cell_type": "code",
   "execution_count": null,
   "metadata": {},
   "outputs": [],
   "source": []
  },
  {
   "cell_type": "code",
   "execution_count": null,
   "metadata": {},
   "outputs": [],
   "source": []
  },
  {
   "cell_type": "code",
   "execution_count": null,
   "metadata": {},
   "outputs": [],
   "source": []
  }
 ],
 "metadata": {
  "kernelspec": {
   "display_name": "Python 3",
   "language": "python",
   "name": "python3"
  },
  "language_info": {
   "codemirror_mode": {
    "name": "ipython",
    "version": 3
   },
   "file_extension": ".py",
   "mimetype": "text/x-python",
   "name": "python",
   "nbconvert_exporter": "python",
   "pygments_lexer": "ipython3",
   "version": "3.7.5"
  }
 },
 "nbformat": 4,
 "nbformat_minor": 2
}
