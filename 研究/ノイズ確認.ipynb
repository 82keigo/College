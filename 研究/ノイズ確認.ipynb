{
 "cells": [
  {
   "cell_type": "code",
   "execution_count": 47,
   "id": "32c9ff26",
   "metadata": {},
   "outputs": [],
   "source": [
    "import numpy as np\n",
    "\n",
    "# Import Qiskit\n",
    "from qiskit import QuantumCircuit\n",
    "from qiskit import Aer, transpile\n",
    "from qiskit.tools.visualization import plot_histogram, plot_state_city\n",
    "import qiskit.quantum_info as qi\n",
    "import numpy as np"
   ]
  },
  {
   "cell_type": "code",
   "execution_count": 48,
   "id": "478f7d6c",
   "metadata": {},
   "outputs": [],
   "source": [
    "from qiskit import transpile\n",
    "from qiskit.quantum_info import Kraus, SuperOp\n",
    "from qiskit.providers.aer import AerSimulator"
   ]
  },
  {
   "cell_type": "code",
   "execution_count": 49,
   "id": "8998259b",
   "metadata": {},
   "outputs": [],
   "source": [
    "pi=np.pi"
   ]
  },
  {
   "cell_type": "code",
   "execution_count": 50,
   "id": "f514d23d",
   "metadata": {},
   "outputs": [
    {
     "data": {
      "text/plain": [
       "[AerSimulator('aer_simulator'),\n",
       " AerSimulator('aer_simulator_statevector'),\n",
       " AerSimulator('aer_simulator_density_matrix'),\n",
       " AerSimulator('aer_simulator_stabilizer'),\n",
       " AerSimulator('aer_simulator_matrix_product_state'),\n",
       " AerSimulator('aer_simulator_extended_stabilizer'),\n",
       " AerSimulator('aer_simulator_unitary'),\n",
       " AerSimulator('aer_simulator_superop'),\n",
       " QasmSimulator('qasm_simulator'),\n",
       " StatevectorSimulator('statevector_simulator'),\n",
       " UnitarySimulator('unitary_simulator'),\n",
       " PulseSimulator('pulse_simulator')]"
      ]
     },
     "execution_count": 50,
     "metadata": {},
     "output_type": "execute_result"
    }
   ],
   "source": [
    "Aer.backends()"
   ]
  },
  {
   "cell_type": "code",
   "execution_count": 51,
   "id": "bd852d6c",
   "metadata": {},
   "outputs": [],
   "source": [
    "simulator = Aer.get_backend('aer_simulator')"
   ]
  },
  {
   "cell_type": "code",
   "execution_count": 73,
   "id": "fb5e0dde",
   "metadata": {},
   "outputs": [
    {
     "data": {
      "image/png": "[encoded data removed]",
      "text/plain": [
       "<Figure size 504x360 with 1 Axes>"
      ]
     },
     "execution_count": 73,
     "metadata": {},
     "output_type": "execute_result"
    }
   ],
   "source": [
    "# Create circuit\n",
    "circ1 = QuantumCircuit(1)\n",
    "circ1.ry(pi,0)\n",
    "circ1.measure_all()\n",
    "\n",
    "# Transpile for simulator\n",
    "simulator = Aer.get_backend('aer_simulator')\n",
    "circ1 = transpile(circ1, simulator)\n",
    "\n",
    "# Run and get counts\n",
    "result = simulator.run(circ1).result()\n",
    "counts = result.get_counts(circ1)\n",
    "plot_histogram(counts, title='Bell-State counts')\n"
   ]
  },
  {
   "cell_type": "code",
   "execution_count": 53,
   "id": "81fe9129",
   "metadata": {},
   "outputs": [
    {
     "data": {
      "image/png": "[encoded data removed]",
      "text/plain": [
       "<Figure size 297.479x144.48 with 1 Axes>"
      ]
     },
     "execution_count": 53,
     "metadata": {},
     "output_type": "execute_result"
    }
   ],
   "source": [
    "circ.draw(output='mpl')"
   ]
  },
  {
   "cell_type": "code",
   "execution_count": 57,
   "id": "221c379f",
   "metadata": {},
   "outputs": [
    {
     "name": "stdout",
     "output_type": "stream",
     "text": [
      "['1', '1', '1', '1', '1', '1', '1', '1', '1', '1']\n"
     ]
    }
   ],
   "source": [
    "result = simulator.run(circ, shots=10, memory=True).result()\n",
    "memory = result.get_memory(circ)\n",
    "print(memory)"
   ]
  },
  {
   "cell_type": "code",
   "execution_count": 58,
   "id": "215e0dc7",
   "metadata": {},
   "outputs": [],
   "source": [
    "# Import from Qiskit Aer noise module\n",
    "from qiskit.providers.aer.noise import NoiseModel\n",
    "from qiskit.providers.aer.noise import QuantumError, ReadoutError\n",
    "from qiskit.providers.aer.noise import pauli_error\n",
    "from qiskit.providers.aer.noise import depolarizing_error\n",
    "from qiskit.providers.aer.noise import thermal_relaxation_error"
   ]
  },
  {
   "cell_type": "code",
   "execution_count": 222,
   "id": "c6f11fde",
   "metadata": {},
   "outputs": [
    {
     "name": "stdout",
     "output_type": "stream",
     "text": [
      "NoiseModel:\n",
      "  Basis gates: ['cx', 'id', 'rz', 'sx', 'u1', 'u2', 'u3']\n",
      "  Instructions with noise: ['u2', 'u1', 'u3']\n",
      "  All-qubits errors: ['u1', 'u2', 'u3']\n"
     ]
    }
   ],
   "source": [
    "# Create an empty noise model\n",
    "noise_depolarizing = NoiseModel()\n",
    "\n",
    "# Add depolarizing error to all single qubit u1, u2, u3 gates\n",
    "error = depolarizing_error(0.1, 1)\n",
    "noise_depolarizing.add_all_qubit_quantum_error(error, ['u1', 'u2', 'u3'])\n",
    "# Create noisy simulator backend\n",
    "sim_noise = AerSimulator(noise_model=noise_depolarizing)\n",
    "# Print noise model info\n",
    "print(noise_depolarizing)"
   ]
  },
  {
   "cell_type": "code",
   "execution_count": 217,
   "id": "f64871a0",
   "metadata": {},
   "outputs": [
    {
     "data": {
      "text/html": [
       "<pre style=\"word-wrap: normal;white-space: pre;background: #fff0;line-height: 1.1;font-family: &quot;Courier New&quot;,Courier,monospace\">        ┌────────────┐ ░ ┌─┐\n",
       "   q_0: ┤ Ry(3.0543) ├─░─┤M├\n",
       "        └────────────┘ ░ └╥┘\n",
       "meas: 1/══════════════════╩═\n",
       "                          0 </pre>"
      ],
      "text/plain": [
       "        ┌────────────┐ ░ ┌─┐\n",
       "   q_0: ┤ Ry(3.0543) ├─░─┤M├\n",
       "        └────────────┘ ░ └╥┘\n",
       "meas: 1/══════════════════╩═\n",
       "                          0 "
      ]
     },
     "execution_count": 217,
     "metadata": {},
     "output_type": "execute_result"
    }
   ],
   "source": [
    "# Create circuit\n",
    "circ2= QuantumCircuit(1)\n",
    "circ2.ry(35*pi/36,0)\n",
    "circ2.measure_all()\n",
    "circ2.draw()"
   ]
  },
  {
   "cell_type": "code",
   "execution_count": 218,
   "id": "514f1f9b",
   "metadata": {},
   "outputs": [
    {
     "data": {
      "image/png": "[encoded data removed]",
      "text/plain": [
       "<Figure size 504x360 with 1 Axes>"
      ]
     },
     "execution_count": 218,
     "metadata": {},
     "output_type": "execute_result"
    }
   ],
   "source": [
    "sim_ideal = AerSimulator()\n",
    "result_ideal = sim_ideal.run(circ2).result()\n",
    "plot_histogram(result_ideal.get_counts(0))"
   ]
  },
  {
   "cell_type": "code",
   "execution_count": 223,
   "id": "ae7509c3",
   "metadata": {
    "scrolled": true
   },
   "outputs": [
    {
     "data": {
      "image/png": "[encoded data removed]",
      "text/plain": [
       "<Figure size 504x360 with 1 Axes>"
      ]
     },
     "execution_count": 223,
     "metadata": {},
     "output_type": "execute_result"
    }
   ],
   "source": [
    "# Transpile circuit for noisy basis gates\n",
    "circ2_tnoise = transpile(circ2, sim_noise)\n",
    "\n",
    "# Run and get counts\n",
    "result_noise2 = sim_noise.run(circ2_tnoise).result()\n",
    "counts_noise2 = result_noise2.get_counts(0)\n",
    "\n",
    "# Plot noisy output\n",
    "plot_histogram(counts_noise2)\n"
   ]
  },
  {
   "cell_type": "code",
   "execution_count": 164,
   "id": "b6e32e88",
   "metadata": {},
   "outputs": [],
   "source": [
    "# Create circuit\n",
    "circ1 = QuantumCircuit(1)\n",
    "circ1.ry(pi,0)\n",
    "circ1.id(0)\n",
    "circ1.measure_all()"
   ]
  },
  {
   "cell_type": "code",
   "execution_count": 165,
   "id": "0ed226c8",
   "metadata": {},
   "outputs": [
    {
     "data": {
      "text/html": [
       "<pre style=\"word-wrap: normal;white-space: pre;background: #fff0;line-height: 1.1;font-family: &quot;Courier New&quot;,Courier,monospace\">        ┌───────┐┌───┐ ░ ┌─┐\n",
       "   q_0: ┤ Ry(π) ├┤ I ├─░─┤M├\n",
       "        └───────┘└───┘ ░ └╥┘\n",
       "meas: 1/══════════════════╩═\n",
       "                          0 </pre>"
      ],
      "text/plain": [
       "        ┌───────┐┌───┐ ░ ┌─┐\n",
       "   q_0: ┤ Ry(π) ├┤ I ├─░─┤M├\n",
       "        └───────┘└───┘ ░ └╥┘\n",
       "meas: 1/══════════════════╩═\n",
       "                          0 "
      ]
     },
     "execution_count": 165,
     "metadata": {},
     "output_type": "execute_result"
    }
   ],
   "source": [
    "circ1.draw()"
   ]
  },
  {
   "cell_type": "code",
   "execution_count": 213,
   "id": "780f0805",
   "metadata": {},
   "outputs": [
    {
     "data": {
      "image/png": "[encoded data removed]",
      "text/plain": [
       "<Figure size 504x360 with 1 Axes>"
      ]
     },
     "execution_count": 213,
     "metadata": {},
     "output_type": "execute_result"
    }
   ],
   "source": [
    "# Transpile circuit for noisy basis gates\n",
    "circ1_tnoise = transpile(circ1, sim_noise)\n",
    "\n",
    "# Run and get counts\n",
    "result_noise1 = sim_noise.run(circ1_tnoise).result()\n",
    "counts_noise1 = result_noise1.get_counts(0)\n",
    "\n",
    "# Plot noisy output\n",
    "plot_histogram(counts_noise1)"
   ]
  },
  {
   "cell_type": "code",
   "execution_count": 148,
   "id": "2bbb1d03",
   "metadata": {},
   "outputs": [
    {
     "data": {
      "image/png": "[encoded data removed]",
      "text/plain": [
       "<Figure size 504x360 with 1 Axes>"
      ]
     },
     "execution_count": 148,
     "metadata": {},
     "output_type": "execute_result"
    }
   ],
   "source": [
    "# Create circuit\n",
    "circ3= QuantumCircuit(1)\n",
    "circ3.ry(pi,0)\n",
    "circ3.measure_all()\n",
    "sim_ideal = AerSimulator()\n",
    "result_ideal = sim_ideal.run(circ3).result()\n",
    "plot_histogram(result_ideal.get_counts(0))"
   ]
  },
  {
   "cell_type": "code",
   "execution_count": 149,
   "id": "531a8cbe",
   "metadata": {},
   "outputs": [
    {
     "data": {
      "text/html": [
       "<pre style=\"word-wrap: normal;white-space: pre;background: #fff0;line-height: 1.1;font-family: &quot;Courier New&quot;,Courier,monospace\">        ┌───────┐ ░ ┌─┐\n",
       "   q_0: ┤ Ry(π) ├─░─┤M├\n",
       "        └───────┘ ░ └╥┘\n",
       "meas: 1/═════════════╩═\n",
       "                     0 </pre>"
      ],
      "text/plain": [
       "        ┌───────┐ ░ ┌─┐\n",
       "   q_0: ┤ Ry(π) ├─░─┤M├\n",
       "        └───────┘ ░ └╥┘\n",
       "meas: 1/═════════════╩═\n",
       "                     0 "
      ]
     },
     "execution_count": 149,
     "metadata": {},
     "output_type": "execute_result"
    }
   ],
   "source": [
    "circ3.draw()"
   ]
  },
  {
   "cell_type": "code",
   "execution_count": 183,
   "id": "27bfe989",
   "metadata": {},
   "outputs": [
    {
     "data": {
      "image/png": "[encoded data removed]",
      "text/plain": [
       "<Figure size 504x360 with 1 Axes>"
      ]
     },
     "execution_count": 183,
     "metadata": {},
     "output_type": "execute_result"
    }
   ],
   "source": [
    "# Transpile circuit for noisy basis gates\n",
    "circ3_tnoise = transpile(circ3, sim_noise)\n",
    "\n",
    "# Run and get counts\n",
    "result_noise3 = sim_noise.run(circ3_tnoise).result()\n",
    "counts_noise3 = result_noise3.get_counts(0)\n",
    "\n",
    "# Plot noisy output\n",
    "plot_histogram(counts_noise3)"
   ]
  },
  {
   "cell_type": "code",
   "execution_count": null,
   "id": "b9ffd890",
   "metadata": {},
   "outputs": [],
   "source": [
    "m=10\n",
    "p=0.9\n"
   ]
  }
 ],
 "metadata": {
  "kernelspec": {
   "display_name": "Python 3 (ipykernel)",
   "language": "python",
   "name": "python3"
  },
  "language_info": {
   "codemirror_mode": {
    "name": "ipython",
    "version": 3
   },
   "file_extension": ".py",
   "mimetype": "text/x-python",
   "name": "python",
   "nbconvert_exporter": "python",
   "pygments_lexer": "ipython3",
   "version": "3.7.11"
  }
 },
 "nbformat": 4,
 "nbformat_minor": 5
}
