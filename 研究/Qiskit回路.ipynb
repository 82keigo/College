{
 "cells": [
  {
   "cell_type": "code",
   "execution_count": 11,
   "metadata": {},
   "outputs": [],
   "source": [
    "from qiskit import *\n",
    "import math"
   ]
  },
  {
   "cell_type": "code",
   "execution_count": 2,
   "metadata": {},
   "outputs": [],
   "source": [
    "def P(qc, qx, nbit):\n",
    "    \"\"\"\n",
    "        Generating uniform probability distribution\n",
    "            qc: quantum circuit\n",
    "            qx: quantum register\n",
    "            nbit: number of qubits\n",
    "        The inverse of P = P\n",
    "    \"\"\"\n",
    "    qc.h(qx)\n",
    "\n",
    "def R(qc, qx, qx_measure, nbit, b_max):\n",
    "    \"\"\"\n",
    "        Computing the integral function f()\n",
    "            qc: quantum circuit\n",
    "            qx: quantum register\n",
    "            qx_measure: quantum register for measurement\n",
    "            nbit: number of qubits\n",
    "            b_max: upper limit of integral            \n",
    "    \"\"\"\n",
    "    qc.ry(b_max / 2**nbit * 2 * 0.5, qx_measure)\n",
    "    for i in range(nbit):\n",
    "        qc.cu3(2**i * b_max / 2**nbit * 2, 0, 0, qx[i], qx_measure[0])\n",
    "\n",
    "def Rinv(qc, qx, qx_measure, nbit, b_max):\n",
    "    \"\"\"\n",
    "        The inverse of R\n",
    "            qc: quantum circuit\n",
    "            qx: quantum register\n",
    "            qx_measure : quantum register for measurement\n",
    "            nbit: number of qubits\n",
    "            b_max: upper limit of integral\n",
    "    \"\"\"\n",
    "    for i in range(nbit)[::-1]:\n",
    "        qc.cu3(-2**i * b_max / 2**nbit * 2, 0, 0, qx[i], qx_measure[0])\n",
    "    qc.ry(-b_max / 2**nbit * 2 * 0.5, qx_measure)"
   ]
  },
  {
   "cell_type": "code",
   "execution_count": 56,
   "metadata": {},
   "outputs": [
    {
     "data": {
      "text/html": [
       "<pre style=\"word-wrap: normal;white-space: pre;background: #fff0;line-height: 1.1;font-family: &quot;Courier New&quot;,Courier,monospace\">            ┌───┐                                    \n",
       "q_0: |0>────┤ H ├───────────■────────────────────────\n",
       "            ├───┤           │                        \n",
       "q_1: |0>────┤ H ├───────────┼───────────────■────────\n",
       "        ┌───┴───┴───┐┌──────┴───────┐┌──────┴───────┐\n",
       "q_2: |0>┤ Ry(pi/16) ├┤ U3(pi/8,0,0) ├┤ U3(pi/4,0,0) ├\n",
       "        └───────────┘└──────────────┘└──────────────┘</pre>"
      ],
      "text/plain": [
       "<qiskit.visualization.text.TextDrawing at 0x22d19c67108>"
      ]
     },
     "execution_count": 56,
     "metadata": {},
     "output_type": "execute_result"
    }
   ],
   "source": [
    "qc=QuantumCircuit(3)\n",
    "b_max=math.pi/4\n",
    "P(qc,[0,1],2)\n",
    "R(qc,[0,1],[2],2,b_max)\n",
    "qc.draw()"
   ]
  },
  {
   "cell_type": "code",
   "execution_count": null,
   "metadata": {},
   "outputs": [],
   "source": []
  }
 ],
 "metadata": {
  "kernelspec": {
   "display_name": "Python 3",
   "language": "python",
   "name": "python3"
  },
  "language_info": {
   "codemirror_mode": {
    "name": "ipython",
    "version": 3
   },
   "file_extension": ".py",
   "mimetype": "text/x-python",
   "name": "python",
   "nbconvert_exporter": "python",
   "pygments_lexer": "ipython3",
   "version": "3.7.5"
  }
 },
 "nbformat": 4,
 "nbformat_minor": 2
}
