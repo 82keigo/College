{
 "cells": [
  {
   "cell_type": "code",
   "execution_count": 15,
   "metadata": {},
   "outputs": [
    {
     "name": "stdout",
     "output_type": "stream",
     "text": [
      "[15, 32, 36, 51, 67, 73, 84, 105, 113, 134, 150, 153, 155, 166, 174, 181, 196, 217, 219, 231, 232, 233, 241, 260, 267, 296, 301, 308, 318, 320, 322, 328, 338, 339, 340, 351, 354, 358, 364, 380]\n",
      "[32, 63, 167, 169, 204, 256, 268]\n"
     ]
    }
   ],
   "source": [
    "import random\n",
    "a=range(1,401)\n",
    "b=sorted(random.sample(a,40))\n",
    "print(b)\n",
    "mis=[32,63,167,169,204,256,268]\n",
    "print(mis)"
   ]
  }
 ],
 "metadata": {
  "kernelspec": {
   "display_name": "Python 3",
   "language": "python",
   "name": "python3"
  },
  "language_info": {
   "codemirror_mode": {
    "name": "ipython",
    "version": 3
   },
   "file_extension": ".py",
   "mimetype": "text/x-python",
   "name": "python",
   "nbconvert_exporter": "python",
   "pygments_lexer": "ipython3",
   "version": "3.7.3"
  }
 },
 "nbformat": 4,
 "nbformat_minor": 2
}
